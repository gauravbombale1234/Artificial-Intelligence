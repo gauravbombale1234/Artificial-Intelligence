{
 "cells": [
  {
   "cell_type": "code",
   "execution_count": 3,
   "id": "c0992c77",
   "metadata": {},
   "outputs": [
    {
     "name": "stdout",
     "output_type": "stream",
     "text": [
      "WARNING:tensorflow:From C:\\Users\\Admin\\anaconda3\\Lib\\site-packages\\keras\\src\\losses.py:2976: The name tf.losses.sparse_softmax_cross_entropy is deprecated. Please use tf.compat.v1.losses.sparse_softmax_cross_entropy instead.\n",
      "\n"
     ]
    }
   ],
   "source": [
    "# IMP:  Keep Below Folder Empty\n",
    "# C:/AI Datasets/CNN Data 2/Augumented\n",
    "\n",
    "from tensorflow.keras.preprocessing.image import ImageDataGenerator\n",
    "from skimage import io"
   ]
  },
  {
   "cell_type": "code",
   "execution_count": 4,
   "id": "fcf7c199",
   "metadata": {},
   "outputs": [],
   "source": [
    "# Construct an instance of the ImageDataGeneratorclass\n",
    "# Pass the augumentation parameters through the constructor"
   ]
  },
  {
   "cell_type": "code",
   "execution_count": 9,
   "id": "2af1221b",
   "metadata": {},
   "outputs": [],
   "source": [
    "datagen=ImageDataGenerator(\n",
    "        rotation_range=45, # Random rotation between 0 and 45\n",
    "        width_shift_range=0.2, # % shift\n",
    "        height_shift_range=0.2,\n",
    "        shear_range=0.2,\n",
    "        zoom_range=0.2,\n",
    "        horizontal_flip=True,\n",
    "        fill_mode='constant', cval=125\n",
    ")   # constant,cval=125 # also try nearesrt,constant, reflect, rap\n",
    "# also keep fill_mode='constant' and remove cval"
   ]
  },
  {
   "cell_type": "code",
   "execution_count": 10,
   "id": "e880d947",
   "metadata": {},
   "outputs": [],
   "source": [
    "# Loading a single image for documentation purpose\n",
    "# Using flow method to augument the image\n",
    "\n",
    "# Loading a sample image \n",
    "# Can use any library to read images but they need to be in an array form \n",
    "# If using keras Load_img convert it to an array first\n",
    "x=io.imread('C:/AI Datasets/CNN Data 2/mona/monalisa_original.jpg')\n",
    "\n",
    "# Reshape the input image beacause ...\n",
    "# x: Input data to datagen. flow must be Numpy array of rank 4 or a tuple\n",
    "# First  element represents the number of images\n",
    "x=x.reshape((1,) + x.shape)  # Array with shape (1,256,256,3)\n",
    "\n",
    "i=0\n",
    "for batch in datagen.flow(x, batch_size=16,\n",
    "                         save_to_dir='C:/AI Datasets/CNN Data 2/Augumented',\n",
    "                         save_prefix='aug',\n",
    "                         save_format='png'):\n",
    "    i += 1\n",
    "    if i > 20:\n",
    "        break       # otherwise the generator would Loop infinitely"
   ]
  },
  {
   "cell_type": "code",
   "execution_count": null,
   "id": "1a4becae",
   "metadata": {},
   "outputs": [],
   "source": [
    "# Multiple Images\n",
    "# Manually read each image and create an array to be  "
   ]
  },
  {
   "cell_type": "code",
   "execution_count": null,
   "id": "3b78a994",
   "metadata": {},
   "outputs": [],
   "source": []
  }
 ],
 "metadata": {
  "kernelspec": {
   "display_name": "Python 3 (ipykernel)",
   "language": "python",
   "name": "python3"
  },
  "language_info": {
   "codemirror_mode": {
    "name": "ipython",
    "version": 3
   },
   "file_extension": ".py",
   "mimetype": "text/x-python",
   "name": "python",
   "nbconvert_exporter": "python",
   "pygments_lexer": "ipython3",
   "version": "3.11.5"
  }
 },
 "nbformat": 4,
 "nbformat_minor": 5
}
