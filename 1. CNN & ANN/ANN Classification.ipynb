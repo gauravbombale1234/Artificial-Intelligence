{
 "cells": [
  {
   "cell_type": "code",
   "execution_count": 1,
   "id": "1737cf28",
   "metadata": {},
   "outputs": [
    {
     "name": "stdout",
     "output_type": "stream",
     "text": [
      "WARNING:tensorflow:From C:\\Users\\Admin\\anaconda3\\Lib\\site-packages\\keras\\src\\losses.py:2976: The name tf.losses.sparse_softmax_cross_entropy is deprecated. Please use tf.compat.v1.losses.sparse_softmax_cross_entropy instead.\n",
      "\n"
     ]
    }
   ],
   "source": [
    "import numpy as np\n",
    "from keras.models import Sequential\n",
    "from keras.layers import Dense\n",
    "from keras.utils import to_categorical\n",
    "import pandas as pd"
   ]
  },
  {
   "cell_type": "code",
   "execution_count": 2,
   "id": "67a97d6a",
   "metadata": {},
   "outputs": [],
   "source": [
    "#Loading the dataset\n",
    "train=pd.read_csv('train_sample.csv')\n",
    "test=pd.read_csv('test_sample.csv')"
   ]
  },
  {
   "cell_type": "code",
   "execution_count": 4,
   "id": "680f2879",
   "metadata": {},
   "outputs": [],
   "source": [
    "#Convert it into float\n",
    "X_train=train.iloc[:,1:].values.astype('float32')\n",
    "X_test=test.iloc[:,1:].values.astype('float32')\n",
    "y_train=train.label.values.astype('float32')\n",
    "y_test=test.label.values.astype('float32')"
   ]
  },
  {
   "cell_type": "code",
   "execution_count": 5,
   "id": "cac6bdca",
   "metadata": {},
   "outputs": [
    {
     "data": {
      "text/plain": [
       "array([0., 0., 0., ..., 9., 9., 9.], dtype=float32)"
      ]
     },
     "execution_count": 5,
     "metadata": {},
     "output_type": "execute_result"
    }
   ],
   "source": [
    "y_train"
   ]
  },
  {
   "cell_type": "code",
   "execution_count": 6,
   "id": "743d625d",
   "metadata": {},
   "outputs": [],
   "source": [
    "X_train=X_train/255\n",
    "X_test=X_test/255\n",
    "#Output will be 0 to 9, but  it is non numeric\n",
    "y_train=to_categorical(y_train)\n",
    "y_test=to_categorical(y_test)"
   ]
  },
  {
   "cell_type": "code",
   "execution_count": 8,
   "id": "7afc3c53",
   "metadata": {},
   "outputs": [
    {
     "data": {
      "text/plain": [
       "(1000, 10)"
      ]
     },
     "execution_count": 8,
     "metadata": {},
     "output_type": "execute_result"
    }
   ],
   "source": [
    "num_of_classes=y_test.shape[1]\n",
    "X_train.shape\n",
    "y_train.shape\n",
    "X_test.shape\n",
    "y_test.shape"
   ]
  },
  {
   "cell_type": "code",
   "execution_count": 9,
   "id": "f7c9881d",
   "metadata": {},
   "outputs": [
    {
     "data": {
      "text/plain": [
       "(5000, 784)"
      ]
     },
     "execution_count": 9,
     "metadata": {},
     "output_type": "execute_result"
    }
   ],
   "source": [
    "X_train.shape"
   ]
  },
  {
   "cell_type": "code",
   "execution_count": 10,
   "id": "0716e768",
   "metadata": {},
   "outputs": [
    {
     "name": "stdout",
     "output_type": "stream",
     "text": [
      "WARNING:tensorflow:From C:\\Users\\Admin\\anaconda3\\Lib\\site-packages\\keras\\src\\backend.py:873: The name tf.get_default_graph is deprecated. Please use tf.compat.v1.get_default_graph instead.\n",
      "\n",
      "WARNING:tensorflow:From C:\\Users\\Admin\\anaconda3\\Lib\\site-packages\\keras\\src\\optimizers\\__init__.py:309: The name tf.train.Optimizer is deprecated. Please use tf.compat.v1.train.Optimizer instead.\n",
      "\n"
     ]
    }
   ],
   "source": [
    "def design_nlp():\n",
    "    model=Sequential()\n",
    "    model.add(Dense(150, input_dim=784, activation='relu'))\n",
    "    #We have image size is 28x28 =784 and first layer is of 150\n",
    "    model.add(Dense(200, activation='tanh'))\n",
    "    model.add(Dense(150, activation='tanh'))\n",
    "    model.add(Dense(500, activation='tanh'))\n",
    "    model.add(Dense(num_of_classes, activation='softmax'))\n",
    "    #softmax will give results in probability\n",
    "    model.compile(loss='categorical_crossentropy',optimizer='adam',metrics=['accuracy'])\n",
    "    return model\n",
    "model=design_nlp()"
   ]
  },
  {
   "cell_type": "code",
   "execution_count": 11,
   "id": "bb55cae5",
   "metadata": {},
   "outputs": [
    {
     "name": "stdout",
     "output_type": "stream",
     "text": [
      "Epoch 1/20\n",
      "WARNING:tensorflow:From C:\\Users\\Admin\\anaconda3\\Lib\\site-packages\\keras\\src\\utils\\tf_utils.py:492: The name tf.ragged.RaggedTensorValue is deprecated. Please use tf.compat.v1.ragged.RaggedTensorValue instead.\n",
      "\n",
      "WARNING:tensorflow:From C:\\Users\\Admin\\anaconda3\\Lib\\site-packages\\keras\\src\\engine\\base_layer_utils.py:384: The name tf.executing_eagerly_outside_functions is deprecated. Please use tf.compat.v1.executing_eagerly_outside_functions instead.\n",
      "\n",
      "5/5 [==============================] - 3s 46ms/step - loss: 1.8932 - accuracy: 0.4472\n",
      "Epoch 2/20\n",
      "5/5 [==============================] - 0s 29ms/step - loss: 0.9504 - accuracy: 0.7644\n",
      "Epoch 3/20\n",
      "5/5 [==============================] - 0s 30ms/step - loss: 0.5377 - accuracy: 0.8474\n",
      "Epoch 4/20\n",
      "5/5 [==============================] - 0s 29ms/step - loss: 0.3926 - accuracy: 0.8856\n",
      "Epoch 5/20\n",
      "5/5 [==============================] - 0s 29ms/step - loss: 0.3226 - accuracy: 0.9064\n",
      "Epoch 6/20\n",
      "5/5 [==============================] - 0s 31ms/step - loss: 0.2753 - accuracy: 0.9202\n",
      "Epoch 7/20\n",
      "5/5 [==============================] - 0s 30ms/step - loss: 0.2349 - accuracy: 0.9306\n",
      "Epoch 8/20\n",
      "5/5 [==============================] - 0s 43ms/step - loss: 0.1992 - accuracy: 0.9394\n",
      "Epoch 9/20\n",
      "5/5 [==============================] - 0s 33ms/step - loss: 0.1705 - accuracy: 0.9528\n",
      "Epoch 10/20\n",
      "5/5 [==============================] - 0s 28ms/step - loss: 0.1452 - accuracy: 0.9598\n",
      "Epoch 11/20\n",
      "5/5 [==============================] - 0s 29ms/step - loss: 0.1237 - accuracy: 0.9676\n",
      "Epoch 12/20\n",
      "5/5 [==============================] - 0s 31ms/step - loss: 0.1081 - accuracy: 0.9700\n",
      "Epoch 13/20\n",
      "5/5 [==============================] - 0s 44ms/step - loss: 0.0889 - accuracy: 0.9788\n",
      "Epoch 14/20\n",
      "5/5 [==============================] - 0s 42ms/step - loss: 0.0741 - accuracy: 0.9838\n",
      "Epoch 15/20\n",
      "5/5 [==============================] - 0s 36ms/step - loss: 0.0628 - accuracy: 0.9878\n",
      "Epoch 16/20\n",
      "5/5 [==============================] - 0s 30ms/step - loss: 0.0517 - accuracy: 0.9906\n",
      "Epoch 17/20\n",
      "5/5 [==============================] - 0s 43ms/step - loss: 0.0432 - accuracy: 0.9920\n",
      "Epoch 18/20\n",
      "5/5 [==============================] - 0s 30ms/step - loss: 0.0352 - accuracy: 0.9944\n",
      "Epoch 19/20\n",
      "5/5 [==============================] - 0s 30ms/step - loss: 0.0290 - accuracy: 0.9966\n",
      "Epoch 20/20\n",
      "5/5 [==============================] - 0s 29ms/step - loss: 0.0247 - accuracy: 0.9978\n"
     ]
    },
    {
     "data": {
      "text/plain": [
       "<keras.src.callbacks.History at 0x19bf80b8390>"
      ]
     },
     "execution_count": 11,
     "metadata": {},
     "output_type": "execute_result"
    }
   ],
   "source": [
    "#fitting model on train data\n",
    "model.fit(x=X_train,y=y_train,batch_size=1000,epochs=20)\n",
    "#Evaluating the model"
   ]
  },
  {
   "cell_type": "code",
   "execution_count": 13,
   "id": "ef8b56aa",
   "metadata": {},
   "outputs": [
    {
     "name": "stdout",
     "output_type": "stream",
     "text": [
      "32/32 [==============================] - 0s 4ms/step - loss: 0.1827 - accuracy: 0.9390\n",
      "Accuracy: 93.900%\n"
     ]
    }
   ],
   "source": [
    "eval_score_test=model.evaluate(X_test,y_test,verbose=1)\n",
    "print('Accuracy: %.3f%%'%(eval_score_test[1]*100))"
   ]
  },
  {
   "cell_type": "code",
   "execution_count": 14,
   "id": "aa5edcda",
   "metadata": {},
   "outputs": [
    {
     "name": "stdout",
     "output_type": "stream",
     "text": [
      "157/157 [==============================] - 1s 4ms/step - loss: 0.0210 - accuracy: 0.9982\n",
      "Accuracy: 99.820%\n"
     ]
    }
   ],
   "source": [
    "eval_score_train=model.evaluate(X_train,y_train,verbose=1)\n",
    "print('Accuracy: %.3f%%'%(eval_score_train[1]*100))"
   ]
  },
  {
   "cell_type": "code",
   "execution_count": null,
   "id": "5febcd41",
   "metadata": {},
   "outputs": [],
   "source": []
  }
 ],
 "metadata": {
  "kernelspec": {
   "display_name": "Python 3 (ipykernel)",
   "language": "python",
   "name": "python3"
  },
  "language_info": {
   "codemirror_mode": {
    "name": "ipython",
    "version": 3
   },
   "file_extension": ".py",
   "mimetype": "text/x-python",
   "name": "python",
   "nbconvert_exporter": "python",
   "pygments_lexer": "ipython3",
   "version": "3.11.5"
  }
 },
 "nbformat": 4,
 "nbformat_minor": 5
}
