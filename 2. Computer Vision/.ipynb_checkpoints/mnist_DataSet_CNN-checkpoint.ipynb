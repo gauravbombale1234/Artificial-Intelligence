{
 "cells": [
  {
   "cell_type": "code",
   "execution_count": 1,
   "metadata": {},
   "outputs": [],
   "source": [
    "import tensorflow as tf"
   ]
  },
  {
   "cell_type": "code",
   "execution_count": 3,
   "metadata": {
    "scrolled": true
   },
   "outputs": [
    {
     "data": {
      "text/plain": [
       "False"
      ]
     },
     "execution_count": 3,
     "metadata": {},
     "output_type": "execute_result"
    }
   ],
   "source": [
    "tf.test.is_gpu_available(\n",
    "    cuda_only=False, min_cuda_compute_capability=None\n",
    ")"
   ]
  },
  {
   "cell_type": "code",
   "execution_count": 4,
   "metadata": {},
   "outputs": [],
   "source": [
    "from tensorflow.keras import layers\n",
    "from tensorflow.keras import models"
   ]
  },
  {
   "cell_type": "code",
   "execution_count": 23,
   "metadata": {},
   "outputs": [
    {
     "name": "stdout",
     "output_type": "stream",
     "text": [
      "_________________________________________________________________\n",
      "Layer (type)                 Output Shape              Param #   \n",
      "=================================================================\n",
      "conv2d_12 (Conv2D)           (None, 26, 26, 32)        320       \n",
      "_________________________________________________________________\n",
      "max_pooling2d_8 (MaxPooling2 (None, 13, 13, 32)        0         \n",
      "_________________________________________________________________\n",
      "conv2d_13 (Conv2D)           (None, 11, 11, 64)        18496     \n",
      "_________________________________________________________________\n",
      "max_pooling2d_9 (MaxPooling2 (None, 5, 5, 64)          0         \n",
      "_________________________________________________________________\n",
      "conv2d_14 (Conv2D)           (None, 3, 3, 64)          36928     \n",
      "=================================================================\n",
      "Total params: 55,744\n",
      "Trainable params: 55,744\n",
      "Non-trainable params: 0\n",
      "_________________________________________________________________\n"
     ]
    }
   ],
   "source": [
    "# Initialize a Sequential model\n",
    "model = models.Sequential()\n",
    "\n",
    "# Add the first Conv2D layer with 32 filters, a kernel size of 3x3, ReLU activation,\n",
    "# and an input shape of 28x28x1 (for grayscale images)\n",
    "model.add(layers.Conv2D(32, (3, 3), activation='relu', input_shape=(28, 28, 1)))\n",
    "\n",
    "# Add a MaxPooling layer with a pool size of 2x2 to reduce the spatial dimensions\n",
    "model.add(layers.MaxPooling2D((2, 2)))\n",
    "\n",
    "# Add a second Conv2D layer with 64 filters and ReLU activation\n",
    "model.add(layers.Conv2D(64, (3, 3), activation='relu'))\n",
    "\n",
    "# Add another MaxPooling layer with a pool size of 2x2\n",
    "model.add(layers.MaxPooling2D((2, 2)))\n",
    "\n",
    "# Add a third Conv2D layer with 64 filters and ReLU activation\n",
    "model.add(layers.Conv2D(64, (3, 3), activation='relu'))\n",
    "\n",
    "# Print a summary of the model architecture\n",
    "model.summary()"
   ]
  },
  {
   "cell_type": "code",
   "execution_count": 24,
   "metadata": {},
   "outputs": [
    {
     "name": "stdout",
     "output_type": "stream",
     "text": [
      "_________________________________________________________________\n",
      "Layer (type)                 Output Shape              Param #   \n",
      "=================================================================\n",
      "conv2d_12 (Conv2D)           (None, 26, 26, 32)        320       \n",
      "_________________________________________________________________\n",
      "max_pooling2d_8 (MaxPooling2 (None, 13, 13, 32)        0         \n",
      "_________________________________________________________________\n",
      "conv2d_13 (Conv2D)           (None, 11, 11, 64)        18496     \n",
      "_________________________________________________________________\n",
      "max_pooling2d_9 (MaxPooling2 (None, 5, 5, 64)          0         \n",
      "_________________________________________________________________\n",
      "conv2d_14 (Conv2D)           (None, 3, 3, 64)          36928     \n",
      "_________________________________________________________________\n",
      "flatten_2 (Flatten)          (None, 576)               0         \n",
      "_________________________________________________________________\n",
      "dense_4 (Dense)              (None, 64)                36928     \n",
      "_________________________________________________________________\n",
      "dense_5 (Dense)              (None, 10)                650       \n",
      "=================================================================\n",
      "Total params: 93,322\n",
      "Trainable params: 93,322\n",
      "Non-trainable params: 0\n",
      "_________________________________________________________________\n"
     ]
    }
   ],
   "source": [
    "# Flatten the 3D output from the previous layer to 1D\n",
    "model.add(layers.Flatten())\n",
    "\n",
    "# Add a Dense (fully connected) layer with 64 units and ReLU activation\n",
    "model.add(layers.Dense(64, activation='relu'))\n",
    "\n",
    "# Add a final Dense layer with 10 units (for 10 output classes) and softmax activation\n",
    "# This layer is used for multi-class classification\n",
    "model.add(layers.Dense(10, activation='softmax'))\n",
    "\n",
    "# Print a summary of the model architecture\n",
    "model.summary()\n"
   ]
  },
  {
   "cell_type": "code",
   "execution_count": 21,
   "metadata": {},
   "outputs": [],
   "source": [
    "from tensorflow.keras.datasets import mnist\n",
    "from tensorflow.keras.utils import to_categorical"
   ]
  },
  {
   "cell_type": "code",
   "execution_count": 22,
   "metadata": {},
   "outputs": [
    {
     "name": "stdout",
     "output_type": "stream",
     "text": [
      "Epoch 1/5\n",
      "60000/60000 [==============================] - 108s 2ms/step - loss: 0.1759 - acc: 0.9456\n",
      "Epoch 2/5\n",
      "60000/60000 [==============================] - 106s 2ms/step - loss: 0.0473 - acc: 0.9854\n",
      "Epoch 3/5\n",
      "60000/60000 [==============================] - 105s 2ms/step - loss: 0.0321 - acc: 0.9900\n",
      "Epoch 4/5\n",
      "60000/60000 [==============================] - 105s 2ms/step - loss: 0.0249 - acc: 0.9925\n",
      "Epoch 5/5\n",
      "60000/60000 [==============================] - 105s 2ms/step - loss: 0.0197 - acc: 0.9940\n",
      "10000/10000 [==============================] - 7s 662us/step\n"
     ]
    },
    {
     "data": {
      "text/plain": [
       "0.9911"
      ]
     },
     "execution_count": 22,
     "metadata": {},
     "output_type": "execute_result"
    }
   ],
   "source": [
    "# Load the MNIST dataset, which includes training and test images and labels\n",
    "(train_images, train_labels), (test_images, test_labels) = mnist.load_data()\n",
    "\n",
    "# Reshape the training images to include a single channel (grayscale)\n",
    "train_images = train_images.reshape((60000, 28, 28, 1))\n",
    "\n",
    "# Normalize the pixel values of the training images to the range [0, 1]\n",
    "train_images = train_images.astype('float32') / 255\n",
    "\n",
    "# Reshape the test images to include a single channel (grayscale)\n",
    "test_images = test_images.reshape((10000, 28, 28, 1))\n",
    "\n",
    "# Normalize the pixel values of the test images to the range [0, 1]\n",
    "test_images = test_images.astype('float32') / 255\n",
    "\n",
    "# Convert the training labels to categorical format (one-hot encoding)\n",
    "train_labels = to_categorical(train_labels)\n",
    "\n",
    "# Convert the test labels to categorical format (one-hot encoding)\n",
    "test_labels = to_categorical(test_labels)\n",
    "\n",
    "# Compile the model with the RMSprop optimizer, categorical crossentropy loss function,\n",
    "# and accuracy as the evaluation metric\n",
    "model.compile(optimizer='rmsprop', loss='categorical_crossentropy', metrics=['accuracy'])\n",
    "\n",
    "# Train the model on the training data for 5 epochs with a batch size of 64\n",
    "model.fit(train_images, train_labels, epochs=5, batch_size=64)\n",
    "\n",
    "# Evaluate the model's performance on the test data and retrieve the loss and accuracy\n",
    "test_loss, test_acc = model.evaluate(test_images, test_labels)\n",
    "\n",
    "# Print the test accuracy\n",
    "test_acc\n"
   ]
  },
  {
   "cell_type": "code",
   "execution_count": null,
   "metadata": {},
   "outputs": [],
   "source": []
  }
 ],
 "metadata": {
  "kernelspec": {
   "display_name": "Python 3",
   "language": "python",
   "name": "python3"
  },
  "language_info": {
   "codemirror_mode": {
    "name": "ipython",
    "version": 3
   },
   "file_extension": ".py",
   "mimetype": "text/x-python",
   "name": "python",
   "nbconvert_exporter": "python",
   "pygments_lexer": "ipython3",
   "version": "3.6.6"
  }
 },
 "nbformat": 4,
 "nbformat_minor": 2
}
