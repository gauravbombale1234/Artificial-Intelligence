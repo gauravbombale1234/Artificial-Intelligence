{
 "cells": [
  {
   "cell_type": "markdown",
   "metadata": {},
   "source": [
    "OpenCV Connecting to a USB Camera or a Laptop Camera\n",
    "\n",
    "OpenCV can automatically connect to your laptop's built in camera or your USB camera if you've installed that \n",
    "specific USB camera drivers. Please keep in mind, its almost impossible for us to help troubleshoot this sort \n",
    "of physical connection on our end, so if you are not able to connect, please check out the troubleshooting \n",
    "tips here:\n",
    "    https://github.com/opencv/opencv/issues/8471"
   ]
  },
  {
   "cell_type": "code",
   "execution_count": 1,
   "metadata": {},
   "outputs": [],
   "source": [
    "# Put  all this in one  cell\n",
    "import cv2\n",
    "\n",
    "# Connect to your computer's default camera\n",
    "cap = cv2.VideoCapture(0)\n",
    "\n",
    "#Automatically grab width and height from video feed \n",
    "#(returns float which we need to convert to integer for later on!)\n",
    "\n",
    "width= int(cap.get(cv2.CAP_PROP_FRAME_WIDTH)) \n",
    "height = int(cap.get(cv2.CAP_PROP_FRAME_HEIGHT))\n",
    "\n",
    "while True:\n",
    "    # Capture frame-by-frame \n",
    "    ret, frame = cap.read()\n",
    "\n",
    "    # Our operations on the frame come here \n",
    "    gray = cv2.cvtColor(frame, cv2.COLOR_BGR2GRAY)\n",
    "\n",
    "    # Display the resulting frame \n",
    "    cv2.imshow('frame',gray)\n",
    "\n",
    "    # This command Let's us quit with the \"q\" button on a keyboard\n",
    "    #Simply pressing X on the window won't work!\n",
    "    if cv2.waitKey(1) & 0xFF == ord('q'):\n",
    "        break\n",
    "\n",
    "#When everything done, release the capture and destroy the windows \n",
    "cap.release() \n",
    "cv2.destroyAllWindows()"
   ]
  },
  {
   "cell_type": "markdown",
   "metadata": {},
   "source": [
    "### With color"
   ]
  },
  {
   "cell_type": "code",
   "execution_count": null,
   "metadata": {},
   "outputs": [],
   "source": [
    "# Put  all this in one  cell\n",
    "import cv2\n",
    "\n",
    "# Connect to your computer's default camera\n",
    "cap = cv2.VideoCapture(0)\n",
    "\n",
    "#Automatically grab width and height from video feed \n",
    "#(returns float which we need to convert to integer for later on!)\n",
    "\n",
    "width= int(cap.get(cv2.CAP_PROP_FRAME_WIDTH)) \n",
    "height = int(cap.get(cv2.CAP_PROP_FRAME_HEIGHT))\n",
    "\n",
    "while True:\n",
    "    # Capture frame-by-frame \n",
    "    ret, frame = cap.read()\n",
    "\n",
    "    # Our operations on the frame come here \n",
    "    #gray = cv2.cvtColor(frame, cv2.COLOR_BGR2GRAY)\n",
    "\n",
    "    # Display the resulting frame \n",
    "    cv2.imshow('frame',frame)\n",
    "\n",
    "    # This command Let's us quit with the \"q\" button on a keyboard\n",
    "    #Simply pressing X on the window won't work!\n",
    "    if cv2.waitKey(1) & 0xFF == ord('q'):\n",
    "        break\n",
    "\n",
    "#When everything done, release the capture and destroy the windows \n",
    "cap.release() \n",
    "cv2.destroyAllWindows()"
   ]
  },
  {
   "cell_type": "code",
   "execution_count": 2,
   "metadata": {},
   "outputs": [],
   "source": [
    "import cv2\n",
    "\n",
    "# Connects to your computer's default camera\n",
    "cap = cv2.VideoCapture(0)\n",
    "\n",
    "# Automatically grab width and height from video feed\n",
    "width = int(cap.get(cv2.CAP_PROP_FRAME_WIDTH))\n",
    "height = int(cap.get(cv2.CAP_PROP_FRAME_HEIGHT))\n",
    "\n",
    "# Change the codec to 'mp4v' for .mp4 files\n",
    "writer = cv2.VideoWriter(\"C:/AI 2024/2. Computer Vision/student_capture_3.mp4\", cv2.VideoWriter_fourcc(*'mp4v'), 25, (width, height))\n",
    "\n",
    "while True:\n",
    "    # Capture frame by frame\n",
    "    ret, frame = cap.read()\n",
    "    if not ret:\n",
    "        break\n",
    "\n",
    "    writer.write(frame)\n",
    "    cv2.imshow('frame', frame)\n",
    "\n",
    "    # Quit with the 'q' key\n",
    "    if cv2.waitKey(1) & 0xFF == ord('q'):\n",
    "        break\n",
    "\n",
    "# Release resources\n",
    "cap.release()\n",
    "writer.release()\n",
    "cv2.destroyAllWindows()\n"
   ]
  },
  {
   "cell_type": "code",
   "execution_count": 1,
   "metadata": {},
   "outputs": [],
   "source": [
    "# Run the video\n",
    "\n",
    "import cv2\n",
    "import time\n",
    "\n",
    "# Same command function as streaming, it's just now we pass the file path\n",
    "cap = cv2.VideoCapture(\"C:/AI 2024/2. Computer Vision/student_capture_2.mp4\")\n",
    "\n",
    "# Frame per second for video\n",
    "fps = 25\n",
    "\n",
    "# While video is opened\n",
    "while cap.isOpened():\n",
    "    # Capture frame by frame\n",
    "    ret, frame = cap.read()\n",
    "    \n",
    "    if ret:\n",
    "        time.sleep(1/fps)\n",
    "        cv2.imshow('frame', frame)\n",
    "        \n",
    "        # Press 'q' to quit\n",
    "        if cv2.waitKey(25) & 0xFF == ord('q'):\n",
    "            break\n",
    "    else:\n",
    "        break\n",
    "\n",
    "# Release the video capture object\n",
    "cap.release()\n",
    "cv2.destroyAllWindows()"
   ]
  },
  {
   "cell_type": "code",
   "execution_count": null,
   "metadata": {},
   "outputs": [],
   "source": []
  },
  {
   "cell_type": "code",
   "execution_count": null,
   "metadata": {},
   "outputs": [],
   "source": []
  },
  {
   "cell_type": "code",
   "execution_count": null,
   "metadata": {},
   "outputs": [],
   "source": []
  }
 ],
 "metadata": {
  "kernelspec": {
   "display_name": "Python 3",
   "language": "python",
   "name": "python3"
  },
  "language_info": {
   "codemirror_mode": {
    "name": "ipython",
    "version": 3
   },
   "file_extension": ".py",
   "mimetype": "text/x-python",
   "name": "python",
   "nbconvert_exporter": "python",
   "pygments_lexer": "ipython3",
   "version": "3.6.6"
  }
 },
 "nbformat": 4,
 "nbformat_minor": 2
}
